{
 "cells": [
  {
   "cell_type": "markdown",
   "metadata": {
    "application/vnd.databricks.v1+cell": {
     "cellMetadata": {
      "byteLimit": 2048000,
      "rowLimit": 10000
     },
     "inputWidgets": {},
     "nuid": "de37b529-f957-4996-bd8e-9df45e6b939a",
     "showTitle": false,
     "tableResultSettingsMap": {},
     "title": ""
    }
   },
   "source": [
    "#Oil Extraction Production Forecasting\n",
    "<br/>\n",
    "<img src=\"https://www.nsenergybusiness.com/wp-content/uploads/sites/4/2022/07/refinery-ga56d4972f_640.jpg\" />"
   ]
  },
  {
   "cell_type": "code",
   "execution_count": 0,
   "metadata": {
    "application/vnd.databricks.v1+cell": {
     "cellMetadata": {
      "byteLimit": 2048000,
      "rowLimit": 10000
     },
     "inputWidgets": {},
     "nuid": "8d48972b-139d-4403-9ea2-a6c078e9e91e",
     "showTitle": false,
     "tableResultSettingsMap": {},
     "title": ""
    }
   },
   "outputs": [],
   "source": [
    "%pip install prophet\n",
    "dbutils.library.restartPython()"
   ]
  },
  {
   "cell_type": "code",
   "execution_count": 0,
   "metadata": {
    "application/vnd.databricks.v1+cell": {
     "cellMetadata": {
      "byteLimit": 2048000,
      "rowLimit": 10000
     },
     "inputWidgets": {},
     "nuid": "d8696245-ad14-4174-ad11-2c3ff3b8a123",
     "showTitle": false,
     "tableResultSettingsMap": {},
     "title": ""
    }
   },
   "outputs": [],
   "source": [
    "import hashlib, base64\n",
    "\n",
    "#IMPORTANT! DO NOT CHANGE THESE VALUES!!!!\n",
    "catalog = \"workshop\"\n",
    "db = \"default\"\n",
    "current_user = dbutils.notebook.entry_point.getDbutils().notebook().getContext().tags().get(\"user\").get()\n",
    "hash_object = hashlib.sha256(current_user.encode())\n",
    "hash_user_id = base64.b32encode(hash_object.digest()).decode(\"utf-8\").rstrip(\"=\")[:12]  #Trim to 12 chars for readability\n",
    "initials = \"\".join([x[0] for x in current_user.split(\"@\")[0].split(\".\")])\n",
    "short_hash = hashlib.md5(current_user.encode()).hexdigest()[:8]  #Short 8-char hash\n",
    "safe_user_id = f\"{initials.upper()}_{short_hash}\"\n",
    "src_table = f\"{safe_user_id}_oil_yield\"\n",
    "model_name = f\"{safe_user_id}_oil_yield_forecast\"\n",
    "model_uri = f\"{catalog}.{db}.{model_name}\""
   ]
  },
  {
   "cell_type": "code",
   "execution_count": 0,
   "metadata": {
    "application/vnd.databricks.v1+cell": {
     "cellMetadata": {
      "byteLimit": 2048000,
      "rowLimit": 10000
     },
     "inputWidgets": {},
     "nuid": "4f0d1f42-671d-4d3d-a830-0956077e0034",
     "showTitle": false,
     "tableResultSettingsMap": {},
     "title": ""
    }
   },
   "outputs": [],
   "source": [
    "import mlflow\n",
    "\n",
    "# Set a named experiment\n",
    "mlflow.set_experiment(f\"/Users/{current_user}/Oil Extraction Production Forecasting\")"
   ]
  },
  {
   "cell_type": "code",
   "execution_count": 0,
   "metadata": {
    "application/vnd.databricks.v1+cell": {
     "cellMetadata": {
      "byteLimit": 2048000,
      "rowLimit": 10000
     },
     "inputWidgets": {},
     "nuid": "33d11dae-8b2d-44fd-952a-06ce8971f5bb",
     "showTitle": false,
     "tableResultSettingsMap": {},
     "title": ""
    }
   },
   "outputs": [],
   "source": [
    "from databricks.feature_engineering import FeatureEngineeringClient\n",
    "\n",
    "fe = FeatureEngineeringClient()\n",
    "\n",
    "df = fe.read_table(\n",
    "  name=f'{catalog}.{db}.{src_table}_features_transformed'\n",
    ")"
   ]
  },
  {
   "cell_type": "code",
   "execution_count": 0,
   "metadata": {
    "application/vnd.databricks.v1+cell": {
     "cellMetadata": {
      "byteLimit": 2048000,
      "rowLimit": 10000
     },
     "inputWidgets": {},
     "nuid": "f62b6393-a52a-449c-9f88-c02297bb02b3",
     "showTitle": false,
     "tableResultSettingsMap": {},
     "title": ""
    }
   },
   "outputs": [],
   "source": [
    "#If we want to use the UC registry rather than the local mlflow registry, set databricks-uc as the registry uri\n",
    "mlflow.set_registry_uri(\"databricks-uc\")"
   ]
  },
  {
   "cell_type": "code",
   "execution_count": 0,
   "metadata": {
    "application/vnd.databricks.v1+cell": {
     "cellMetadata": {
      "byteLimit": 2048000,
      "rowLimit": 10000
     },
     "inputWidgets": {},
     "nuid": "b53bf6d5-05da-48a6-be96-6c18bba9efc3",
     "showTitle": false,
     "tableResultSettingsMap": {},
     "title": ""
    }
   },
   "outputs": [],
   "source": [
    "import mlflow\n",
    "from mlflow import MlflowClient\n",
    "\n",
    "# Define Unity Catalog Model URI with alias\n",
    "model_alias = \"Champion\"\n",
    "model_uri = f\"models:/{catalog}.{db}.{model_name}@{model_alias}\"\n",
    "\n",
    "# Load the trained model\n",
    "loaded_model = mlflow.xgboost.load_model(model_uri)\n",
    "\n",
    "print(f\"✅ Model Loaded from Unity Catalog. Loaded {model_name}\")"
   ]
  },
  {
   "cell_type": "code",
   "execution_count": 0,
   "metadata": {
    "application/vnd.databricks.v1+cell": {
     "cellMetadata": {
      "byteLimit": 2048000,
      "rowLimit": 10000
     },
     "inputWidgets": {},
     "nuid": "2a8c823e-76a5-4867-9b02-cfd9284c841b",
     "showTitle": false,
     "tableResultSettingsMap": {},
     "title": ""
    }
   },
   "outputs": [],
   "source": [
    "from databricks.feature_engineering import FeatureEngineeringClient\n",
    "from pyspark.sql.functions import col, date_add\n",
    "import pandas as pd\n",
    "\n",
    "fe = FeatureEngineeringClient()\n",
    "\n",
    "df = fe.read_table(\n",
    "  name=f'{catalog}.{db}.{src_table}_features'\n",
    ").orderBy(col(\"date\").desc()).limit(30).toPandas()"
   ]
  },
  {
   "cell_type": "code",
   "execution_count": 0,
   "metadata": {
    "application/vnd.databricks.v1+cell": {
     "cellMetadata": {
      "byteLimit": 2048000,
      "rowLimit": 10000
     },
     "inputWidgets": {},
     "nuid": "f05a7294-61d3-473e-b59c-274be3bd399c",
     "showTitle": true,
     "tableResultSettingsMap": {},
     "title": "estimate features based on historical seasonality"
    }
   },
   "outputs": [],
   "source": [
    "from databricks.feature_engineering import FeatureEngineeringClient\n",
    "from pyspark.sql.functions import col, date_add\n",
    "import pandas as pd\n",
    "\n",
    "fe = FeatureEngineeringClient()\n",
    "\n",
    "df_latest_features = fe.read_table(\n",
    "  name=f'{catalog}.{db}.{src_table}_features_transformed'\n",
    ").orderBy(col(\"date\").desc()).limit(30).toPandas()\n",
    "\n",
    "#Generate future dates\n",
    "future_dates = pd.date_range(start=df_latest_features[\"date\"].max(), periods=30, freq=\"D\")\n",
    "\n",
    "#Estimate future temperature & precipitation based on past seasonality\n",
    "df_future_features = df_latest_features.copy()\n",
    "df_future_features[\"date\"] = future_dates\n",
    "df_future_features[\"temperature\"] = df_latest_features[\"temperature\"].mean()  #Replace with seasonal estimate\n",
    "df_future_features[\"precipitation_transformed\"] = df_latest_features[\"precipitation_transformed\"].mean()  #Replace with seasonal estimate\n",
    "\n",
    "print(\"✅ Generated Future Feature Data\")\n",
    "print(df_future_features.head())"
   ]
  },
  {
   "cell_type": "code",
   "execution_count": 0,
   "metadata": {
    "application/vnd.databricks.v1+cell": {
     "cellMetadata": {
      "byteLimit": 2048000,
      "rowLimit": 10000
     },
     "inputWidgets": {},
     "nuid": "8a5a721d-627a-4e64-aa59-8afaf4e84c50",
     "showTitle": false,
     "tableResultSettingsMap": {},
     "title": ""
    }
   },
   "outputs": [],
   "source": [
    "df_future_features"
   ]
  },
  {
   "cell_type": "code",
   "execution_count": 0,
   "metadata": {
    "application/vnd.databricks.v1+cell": {
     "cellMetadata": {
      "byteLimit": 2048000,
      "rowLimit": 10000
     },
     "inputWidgets": {},
     "nuid": "c50e3494-c70a-4292-8976-70cb6a78f7c7",
     "showTitle": false,
     "tableResultSettingsMap": {},
     "title": ""
    }
   },
   "outputs": [],
   "source": [
    "# Select input features for prediction\n",
    "X_future = df_future_features[[\"temperature\", \"precipitation_transformed\"]]\n",
    "\n",
    "# Run predictions\n",
    "df_future_features[\"predicted_yield\"] = loaded_model.predict(X_future)\n",
    "\n",
    "# Display results\n",
    "import matplotlib.pyplot as plt\n",
    "\n",
    "plt.figure(figsize=(12, 5))\n",
    "plt.plot(df_future_features[\"date\"], df_future_features[\"predicted_yield\"], marker=\"o\", linestyle=\"dashed\", color=\"red\")\n",
    "plt.xlabel(\"Date\")\n",
    "plt.ylabel(\"Predicted Yield (BBL)\")\n",
    "plt.title(\"Predicted Oil Yield for Next 30 Days\")\n",
    "plt.xticks(rotation=45)\n",
    "plt.grid()\n",
    "plt.show()\n",
    "\n",
    "print(\"✅ Predictions Complete\")\n",
    "print(df_future_features.head())"
   ]
  },
  {
   "cell_type": "code",
   "execution_count": 0,
   "metadata": {
    "application/vnd.databricks.v1+cell": {
     "cellMetadata": {
      "byteLimit": 2048000,
      "rowLimit": 10000
     },
     "inputWidgets": {},
     "nuid": "16717fb6-9a5f-45d6-a83b-7d397a0b8d27",
     "showTitle": false,
     "tableResultSettingsMap": {},
     "title": ""
    }
   },
   "outputs": [],
   "source": [
    "# Convert Pandas DataFrame to Spark DataFrame\n",
    "df_future_spark = spark.createDataFrame(df_future_features)\n",
    "\n",
    "# Save predictions to a Delta Table\n",
    "df_future_spark.write.mode(\"overwrite\").format(\"delta\").saveAsTable(f\"{catalog}.{db}.{src_table}_predictions\")\n",
    "\n",
    "print(\"✅ Saved Predictions to Unity Catalog Feature Store\")"
   ]
  },
  {
   "cell_type": "markdown",
   "metadata": {
    "application/vnd.databricks.v1+cell": {
     "cellMetadata": {},
     "inputWidgets": {},
     "nuid": "78b32326-ccf3-4120-aded-456cc7e9da1f",
     "showTitle": false,
     "tableResultSettingsMap": {},
     "title": ""
    }
   },
   "source": [
    "meh. we can do better."
   ]
  },
  {
   "cell_type": "code",
   "execution_count": 0,
   "metadata": {
    "application/vnd.databricks.v1+cell": {
     "cellMetadata": {
      "byteLimit": 2048000,
      "rowLimit": 10000
     },
     "inputWidgets": {},
     "nuid": "e74b5790-f5b8-4a4b-ac67-edb85b4e04da",
     "showTitle": false,
     "tableResultSettingsMap": {},
     "title": ""
    }
   },
   "outputs": [],
   "source": [
    "from prophet import Prophet\n",
    "import pandas as pd\n",
    "\n",
    "#Load historical feature data (this is the same data we transformed in notebook 02_Advanced_Feature_Engineering)\n",
    "df_features = spark.read.table(f\"{catalog}.{db}.{src_table}_features_transformed\").toPandas()\n",
    "\n",
    "#Ensure date format. Dates aren't always parsed properly.\n",
    "df_features[\"date\"] = pd.to_datetime(df_features[\"date\"])\n",
    "\n",
    "#Prepare data for Prophet. Set our target (y) and our date/time series (ds)\n",
    "temp_df = df_features[[\"date\", \"temperature\"]].rename(columns={\"date\": \"ds\", \"temperature\": \"y\"})\n",
    "precip_df = df_features[[\"date\", \"precipitation_transformed\"]].rename(columns={\"date\": \"ds\", \"precipitation_transformed\": \"y\"})\n",
    "\n",
    "#Train Prophet models for temperature & precipitation\n",
    "temp_model = Prophet()\n",
    "temp_model.fit(temp_df)\n",
    "\n",
    "precip_model = Prophet()\n",
    "precip_model.fit(precip_df)\n",
    "\n",
    "#Forecast next 30 days\n",
    "future_dates = temp_model.make_future_dataframe(periods=30)\n",
    "temp_forecast = temp_model.predict(future_dates)\n",
    "precip_forecast = precip_model.predict(future_dates)\n",
    "\n",
    "#Extract predictions\n",
    "df_predicted_env = future_dates.copy()\n",
    "df_predicted_env[\"temperature\"] = temp_forecast[\"yhat\"]\n",
    "df_predicted_env[\"precipitation_transformed\"] = precip_forecast[\"yhat\"]\n",
    "\n",
    "print(\"✅ Forecasted Temperature & Precipitation for Next 30 Days\")\n",
    "print(df_predicted_env.head())"
   ]
  },
  {
   "cell_type": "code",
   "execution_count": 0,
   "metadata": {
    "application/vnd.databricks.v1+cell": {
     "cellMetadata": {
      "byteLimit": 2048000,
      "rowLimit": 10000
     },
     "inputWidgets": {},
     "nuid": "d6cf046f-e443-41b6-ab78-9cdfade70f39",
     "showTitle": false,
     "tableResultSettingsMap": {},
     "title": ""
    }
   },
   "outputs": [],
   "source": [
    "import mlflow\n",
    "\n",
    "#Select input features for prediction\n",
    "X_future = df_predicted_env[[\"temperature\", \"precipitation_transformed\"]]\n",
    "\n",
    "#Run predictions\n",
    "df_predicted_env[\"predicted_yield\"] = loaded_model.predict(X_future)\n",
    "\n",
    "print(\"✅ Oil Yield Predictions for Next 30 Days\")\n",
    "print(df_predicted_env.head())"
   ]
  },
  {
   "cell_type": "code",
   "execution_count": 0,
   "metadata": {
    "application/vnd.databricks.v1+cell": {
     "cellMetadata": {
      "byteLimit": 2048000,
      "rowLimit": 10000
     },
     "inputWidgets": {},
     "nuid": "8071f394-1d09-4754-84c6-75db70d37493",
     "showTitle": false,
     "tableResultSettingsMap": {},
     "title": ""
    }
   },
   "outputs": [],
   "source": [
    "predict_df = df_predicted_env.sort_values(by='ds', ascending=False).head(30)"
   ]
  },
  {
   "cell_type": "code",
   "execution_count": 0,
   "metadata": {
    "application/vnd.databricks.v1+cell": {
     "cellMetadata": {
      "byteLimit": 2048000,
      "rowLimit": 10000
     },
     "inputWidgets": {},
     "nuid": "8e3a98e8-d341-40be-bf4c-8fd102fa31a1",
     "showTitle": false,
     "tableResultSettingsMap": {},
     "title": ""
    }
   },
   "outputs": [],
   "source": [
    "predict_df"
   ]
  },
  {
   "cell_type": "code",
   "execution_count": 0,
   "metadata": {
    "application/vnd.databricks.v1+cell": {
     "cellMetadata": {
      "byteLimit": 2048000,
      "rowLimit": 10000
     },
     "inputWidgets": {},
     "nuid": "9670eb59-3d8f-4c23-82cb-02b74b2a4625",
     "showTitle": false,
     "tableResultSettingsMap": {},
     "title": ""
    }
   },
   "outputs": [],
   "source": [
    "import matplotlib.pyplot as plt\n",
    "\n",
    "#Plot results\n",
    "plt.figure(figsize=(12, 5))\n",
    "\n",
    "plt.plot(predict_df[\"ds\"], predict_df[\"predicted_yield\"], marker=\"o\", linestyle=\"dashed\", color=\"red\")\n",
    "plt.xlabel(\"Date\")\n",
    "plt.ylabel(\"Predicted Yield (BBL)\")\n",
    "plt.title(\"Predicted Oil Yield for Next 30 Days (Using Forecasted Features)\")\n",
    "plt.xticks(rotation=45)\n",
    "plt.grid()\n",
    "plt.show()"
   ]
  },
  {
   "cell_type": "code",
   "execution_count": 0,
   "metadata": {
    "application/vnd.databricks.v1+cell": {
     "cellMetadata": {
      "byteLimit": 2048000,
      "rowLimit": 10000
     },
     "inputWidgets": {},
     "nuid": "758e8850-8887-417e-bc58-2f8b5c54e089",
     "showTitle": false,
     "tableResultSettingsMap": {},
     "title": ""
    }
   },
   "outputs": [],
   "source": [
    "# Convert Pandas DataFrame to Spark DataFrame\n",
    "df_future_spark = spark.createDataFrame(df_predicted_env.rename(columns={\"ds\": \"date\"}))\n",
    "\n",
    "# Save predictions to a Delta Table in Unity Catalog\n",
    "df_future_spark.write.mode(\"overwrite\").format(\"delta\").saveAsTable(f\"{catalog}.{db}.{src_table}_predictions\")\n",
    "\n",
    "print(\"✅ Saved Forecasted Oil Yield to Unity Catalog Feature Store\")"
   ]
  },
  {
   "cell_type": "markdown",
   "metadata": {
    "application/vnd.databricks.v1+cell": {
     "cellMetadata": {},
     "inputWidgets": {},
     "nuid": "49b89eb9-4284-4c59-bb1f-645b4efd561f",
     "showTitle": false,
     "tableResultSettingsMap": {},
     "title": ""
    }
   },
   "source": [
    "Lab Challenge: What would be the best way to carry these predictions going forward?\n",
    "- How often should we re-run the prediction?\n",
    "- How should we be treating and updating the predicted v. actual data?\n",
    "- Would we want online or offline inference?\n",
    "- How would model serving benefit us?"
   ]
  }
 ],
 "metadata": {
  "application/vnd.databricks.v1+notebook": {
   "computePreferences": null,
   "dashboards": [],
   "environmentMetadata": {
    "base_environment": "",
    "environment_version": "2"
   },
   "language": "python",
   "notebookMetadata": {
    "pythonIndentUnit": 4
   },
   "notebookName": "05_Forecasting_Example",
   "widgets": {}
  },
  "language_info": {
   "name": "python"
  }
 },
 "nbformat": 4,
 "nbformat_minor": 0
}
