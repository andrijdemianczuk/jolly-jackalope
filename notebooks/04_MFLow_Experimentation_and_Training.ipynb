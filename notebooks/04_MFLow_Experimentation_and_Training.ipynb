{
 "cells": [
  {
   "cell_type": "markdown",
   "metadata": {
    "application/vnd.databricks.v1+cell": {
     "cellMetadata": {
      "byteLimit": 2048000,
      "rowLimit": 10000
     },
     "inputWidgets": {},
     "nuid": "754dfed1-1df4-445b-a052-ee9c076f66e2",
     "showTitle": false,
     "tableResultSettingsMap": {},
     "title": ""
    }
   },
   "source": [
    "#Oil Extraction Production Forecasting\n",
    "<br/>\n",
    "<img src=\"https://www.nsenergybusiness.com/wp-content/uploads/sites/4/2022/07/refinery-ga56d4972f_640.jpg\" />"
   ]
  },
  {
   "cell_type": "code",
   "execution_count": 0,
   "metadata": {
    "application/vnd.databricks.v1+cell": {
     "cellMetadata": {
      "byteLimit": 2048000,
      "rowLimit": 10000
     },
     "inputWidgets": {},
     "nuid": "4d787d8b-b41b-4af2-bfc9-407aa8cd77ba",
     "showTitle": false,
     "tableResultSettingsMap": {},
     "title": ""
    }
   },
   "outputs": [],
   "source": [
    "%pip install hyperopt joblib pyspark joblibspark\n",
    "dbutils.library.restartPython()"
   ]
  },
  {
   "cell_type": "code",
   "execution_count": 0,
   "metadata": {
    "application/vnd.databricks.v1+cell": {
     "cellMetadata": {
      "byteLimit": 2048000,
      "rowLimit": 10000
     },
     "inputWidgets": {},
     "nuid": "7bf4a4b0-2add-47da-b679-529edfd7edd7",
     "showTitle": false,
     "tableResultSettingsMap": {},
     "title": ""
    }
   },
   "outputs": [],
   "source": [
    "#IMPORTANT! DO NOT CHANGE THESE VALUES!!!!\n",
    "catalog = \"workshop\"\n",
    "db = \"default\"\n",
    "current_user = dbutils.notebook.entry_point.getDbutils().notebook().getContext().tags().get(\"user\").get()\n",
    "\n",
    "#IMPORTANT! THIS NEEDS TO BE UNIQUE FOR EVERY PARTICIPANT!!!!\n",
    "#IMPORTANT! THIS NEEDS TO BE THE NAME OF THE TABLE YOU CREATED FOR THIS LAB!!!!\n",
    "src_table = \"ademianczuk_oil_yield\""
   ]
  },
  {
   "cell_type": "code",
   "execution_count": 0,
   "metadata": {
    "application/vnd.databricks.v1+cell": {
     "cellMetadata": {
      "byteLimit": 2048000,
      "rowLimit": 10000
     },
     "inputWidgets": {},
     "nuid": "7eb48a0c-3ad7-4aba-a74e-e9deb1e75c7b",
     "showTitle": false,
     "tableResultSettingsMap": {},
     "title": ""
    }
   },
   "outputs": [],
   "source": [
    "import mlflow\n",
    "\n",
    "# Set a named experiment\n",
    "mlflow.set_experiment(f\"/Users/{current_user}/Oil Extraction Production Forecasting\")"
   ]
  },
  {
   "cell_type": "code",
   "execution_count": 0,
   "metadata": {
    "application/vnd.databricks.v1+cell": {
     "cellMetadata": {
      "byteLimit": 2048000,
      "rowLimit": 10000
     },
     "inputWidgets": {},
     "nuid": "b68dbb96-527b-428d-b07b-4b82f8eb63da",
     "showTitle": false,
     "tableResultSettingsMap": {},
     "title": ""
    }
   },
   "outputs": [],
   "source": [
    "from databricks.feature_engineering import FeatureEngineeringClient\n",
    "\n",
    "fe = FeatureEngineeringClient()\n",
    "\n",
    "df = fe.read_table(\n",
    "  name=f'{catalog}.{db}.{src_table}_features_transformed'\n",
    ")"
   ]
  },
  {
   "cell_type": "code",
   "execution_count": 0,
   "metadata": {
    "application/vnd.databricks.v1+cell": {
     "cellMetadata": {
      "byteLimit": 2048000,
      "rowLimit": 10000
     },
     "inputWidgets": {},
     "nuid": "99fdf111-b581-488d-adda-1b441d18611f",
     "showTitle": true,
     "tableResultSettingsMap": {},
     "title": "Define search space"
    }
   },
   "outputs": [],
   "source": [
    "import optuna\n",
    "import xgboost as xgb\n",
    "from sklearn.model_selection import train_test_split\n",
    "from sklearn.metrics import mean_absolute_error, mean_squared_error\n",
    "import joblib\n",
    "\n",
    "#Load dataset from our feature table\n",
    "pdf = df.toPandas()\n",
    "\n",
    "#Select features & target\n",
    "features = [\"temperature\", \"precipitation_transformed\"]\n",
    "target = \"yield_bbl\"\n",
    "\n",
    "#Train-test split\n",
    "X_train, X_test, y_train, y_test = train_test_split(pdf[features], pdf[target], test_size=0.2, random_state=42)\n",
    "\n",
    "#Define objective function\n",
    "def objective(trial):\n",
    "    params = {\n",
    "        \"learning_rate\": trial.suggest_float(\"learning_rate\", 0.01, 0.3),\n",
    "        \"n_estimators\": trial.suggest_int(\"n_estimators\", 50, 500),\n",
    "        \"max_depth\": trial.suggest_int(\"max_depth\", 3, 10),\n",
    "        \"subsample\": trial.suggest_float(\"subsample\", 0.5, 1.0),\n",
    "        \"colsample_bytree\": trial.suggest_float(\"colsample_bytree\", 0.05, 1.0)\n",
    "    }\n",
    "    \n",
    "    model = xgb.XGBRegressor(objective=\"reg:squarederror\", **params)\n",
    "    model.fit(X_train, y_train)\n",
    "    y_pred = model.predict(X_test)\n",
    "    \n",
    "    mae = mean_absolute_error(y_test, y_pred)\n",
    "    \n",
    "    #Log trial as a nested MLflow run\n",
    "    with mlflow.start_run(nested=True):\n",
    "        mlflow.log_params(params)\n",
    "        mlflow.log_metric(\"trial_MAE\", mae)\n",
    "    \n",
    "    return mae\n",
    "\n",
    "with mlflow.start_run(run_name=\"XGBoost Optuna with Nested Runs\") as parent_run:\n",
    "\n",
    "    #Set parallelism\n",
    "    study = optuna.create_study(direction=\"minimize\", study_name=\"xgboost_optuna\", sampler=optuna.samplers.TPESampler())\n",
    "    with joblib.parallel_backend(\"loky\", n_jobs=-1):\n",
    "        study.optimize(objective, n_trials=50, timeout=600, n_jobs=4) #Set parallelism to the number of available cores\n",
    "\n",
    "#Get best parameters\n",
    "best_params = study.best_params\n",
    "\n",
    "#Log best parameters to parent run\n",
    "mlflow.log_params(best_params)\n",
    "\n",
    "print(f\"\\n✅ Best Hyperparameters Found: {best_params}\")"
   ]
  },
  {
   "cell_type": "code",
   "execution_count": 0,
   "metadata": {
    "application/vnd.databricks.v1+cell": {
     "cellMetadata": {
      "byteLimit": 2048000,
      "rowLimit": 10000
     },
     "inputWidgets": {},
     "nuid": "3e769fab-bc3f-42b9-a233-468e3f5e13a3",
     "showTitle": true,
     "tableResultSettingsMap": {},
     "title": "Train best parameters for the best version of the model"
    }
   },
   "outputs": [],
   "source": [
    "#Train optimized XGBoost model\n",
    "best_xgb = xgb.XGBRegressor(objective=\"reg:squarederror\", **best_params)\n",
    "best_xgb.fit(X_train, y_train)\n",
    "\n",
    "#Predict and evaluate\n",
    "y_pred = best_xgb.predict(X_test)\n",
    "mae = mean_absolute_error(y_test, y_pred)\n",
    "rmse = mean_squared_error(y_test, y_pred, squared=False)\n",
    "\n",
    "print(f\"\\n✅ Optimized XGBoost Model Performance:\")\n",
    "print(f\"  MAE: {mae:.2f}, RMSE: {rmse:.2f}\")\n",
    "\n",
    "mlflow.end_run()"
   ]
  },
  {
   "cell_type": "code",
   "execution_count": 0,
   "metadata": {
    "application/vnd.databricks.v1+cell": {
     "cellMetadata": {
      "byteLimit": 2048000,
      "rowLimit": 10000
     },
     "inputWidgets": {},
     "nuid": "33c14a0f-5ecb-413e-8712-b17aaf302ec8",
     "showTitle": true,
     "tableResultSettingsMap": {},
     "title": "set the model registry to global UC"
    }
   },
   "outputs": [],
   "source": [
    "#If we want to use the UC registry rather than the local mlflow registry, set databricks-uc as the registry uri\n",
    "mlflow.set_registry_uri(\"databricks-uc\")"
   ]
  },
  {
   "cell_type": "code",
   "execution_count": 0,
   "metadata": {
    "application/vnd.databricks.v1+cell": {
     "cellMetadata": {
      "byteLimit": 2048000,
      "rowLimit": 10000
     },
     "inputWidgets": {},
     "nuid": "e9596784-1ae9-4336-87c9-97b86aeeb338",
     "showTitle": true,
     "tableResultSettingsMap": {},
     "title": "Log the model to mlflow and register in uc"
    }
   },
   "outputs": [],
   "source": [
    "from mlflow.models.signature import infer_signature\n",
    "\n",
    "#Set a model name\n",
    "model_name = \"oil_yield_forecast\"\n",
    "model_uri = f\"{catalog}.{db}.{model_name}\"\n",
    "\n",
    "# Prepare a sample input for signature inference\n",
    "sample_input = X_train.iloc[:5]  # Take 5 rows from training data\n",
    "sample_output = best_xgb.predict(sample_input)  # Predict output\n",
    "\n",
    "# Infer signature\n",
    "signature = infer_signature(sample_input, sample_output)\n",
    "\n",
    "# Start MLflow run\n",
    "with mlflow.start_run(run_name=\"XGBoost Optuna with joblibspark\") as run:\n",
    "\n",
    "    # Log best hyperparameters\n",
    "    mlflow.log_params(best_params)\n",
    "\n",
    "    # Log model performance\n",
    "    mlflow.log_metric(\"MAE\", mae)\n",
    "    mlflow.log_metric(\"RMSE\", rmse)\n",
    "\n",
    "    # Log model to UC Model Registry\n",
    "    mlflow.xgboost.log_model(\n",
    "        best_xgb,\n",
    "        artifact_path=model_uri,\n",
    "        signature=signature,\n",
    "        input_example=X_test.sample(n=10),\n",
    "        registered_model_name=f\"{catalog}.{db}.{model_name}\"\n",
    "    )\n",
    "\n",
    "    run_id = run.info.run_id\n",
    "\n",
    "    print(\"✅ Logged optimized model to MLflow\")"
   ]
  },
  {
   "cell_type": "code",
   "execution_count": 0,
   "metadata": {
    "application/vnd.databricks.v1+cell": {
     "cellMetadata": {
      "byteLimit": 2048000,
      "rowLimit": 10000
     },
     "inputWidgets": {},
     "nuid": "99dc8af2-1762-4459-97c6-d948badc6dd2",
     "showTitle": true,
     "tableResultSettingsMap": {},
     "title": "Sample invocation"
    }
   },
   "outputs": [],
   "source": [
    "import mlflow\n",
    "from pyspark.sql.functions import struct, col\n",
    "logged_model = f'runs:/{run_id}/{catalog}.{db}.{model_name}'\n",
    "\n",
    "# Load model as a Spark UDF. Override result_type if the model does not return double values.\n",
    "loaded_model = mlflow.pyfunc.spark_udf(spark, model_uri=logged_model)\n",
    "\n",
    "# Predict on a Spark DataFrame.\n",
    "df2 = df.withColumn('predictions', loaded_model(struct(*map(col, df.columns))))"
   ]
  },
  {
   "cell_type": "markdown",
   "metadata": {
    "application/vnd.databricks.v1+cell": {
     "cellMetadata": {},
     "inputWidgets": {},
     "nuid": "3eca8c53-0edb-43e1-842a-e1e1e7c8e3be",
     "showTitle": false,
     "tableResultSettingsMap": {},
     "title": ""
    }
   },
   "source": [
    "Predictions are expectedly poor - we were tuning this for forward looking forecasting. Also, there are likely better algorithms for this specific dataset since we don't have a lot of valuable ancillary data.\n",
    "\n",
    "This experiment serves as an example for a good starting point. There are many things we can do to iterate and build upon this experiment to improve on it."
   ]
  }
 ],
 "metadata": {
  "application/vnd.databricks.v1+notebook": {
   "computePreferences": null,
   "dashboards": [],
   "environmentMetadata": {
    "base_environment": "",
    "environment_version": "2"
   },
   "language": "python",
   "notebookMetadata": {
    "pythonIndentUnit": 4
   },
   "notebookName": "04_MFLow_Experimentation_and_Training",
   "widgets": {}
  },
  "language_info": {
   "name": "python"
  }
 },
 "nbformat": 4,
 "nbformat_minor": 0
}
